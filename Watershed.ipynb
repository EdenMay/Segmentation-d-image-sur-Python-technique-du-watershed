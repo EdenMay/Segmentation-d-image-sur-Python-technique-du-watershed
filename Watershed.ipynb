{
 "cells": [
  {
   "cell_type": "code",
   "execution_count": 1,
   "metadata": {},
   "outputs": [
    {
     "data": {
      "text/plain": [
       "1325"
      ]
     },
     "execution_count": 1,
     "metadata": {},
     "output_type": "execute_result"
    }
   ],
   "source": [
    "#Importation des librairies, mode qt pour afficher des fenêtres flottantes\n",
    "%matplotlib qt\n",
    "import matplotlib.pyplot as plt\n",
    "import numpy as np\n",
    "import scipy.ndimage as ndi\n",
    "from skimage import io, morphology\n",
    "from skimage.measure import regionprops\n",
    "from skimage.segmentation import watershed\n",
    "\n",
    "# Lecture de l'image\n",
    "image = io.imread('./img_seg_brute.png', as_gray = True)\n",
    "\n",
    "# Calcul des distances à l'arrière-plan\n",
    "distance = ndi.distance_transform_edt(image)\n",
    "# Détermination des extrema locaux\n",
    "l_min = morphology.local_minima(-distance)\n",
    "# Labellisation des marqueurs\n",
    "markers, _ = ndi.label(l_min)\n",
    "\n",
    "# Création des bassins\n",
    "labels = watershed(image, markers = markers, mask = image)\n",
    "\n",
    "# Deuxième labellisation pour fusionner les bassins adjacents\n",
    "labels, _ = ndi.label(labels)\n",
    "\n",
    "# Affichage\n",
    "plt.imshow(labels, cmap = plt.cm.nipy_spectral)\n",
    "\n",
    "# Récupération des propriétés des bassins créés (régions)\n",
    "regions = regionprops(labels)\n",
    "\n",
    "# Aire de la région 10 par exemple\n",
    "regions[10].area"
   ]
  },
  {
   "cell_type": "code",
   "execution_count": null,
   "metadata": {},
   "outputs": [],
   "source": []
  }
 ],
 "metadata": {
  "kernelspec": {
   "display_name": "Python 3 (ipykernel)",
   "language": "python",
   "name": "python3"
  },
  "language_info": {
   "codemirror_mode": {
    "name": "ipython",
    "version": 3
   },
   "file_extension": ".py",
   "mimetype": "text/x-python",
   "name": "python",
   "nbconvert_exporter": "python",
   "pygments_lexer": "ipython3",
   "version": "3.9.7"
  }
 },
 "nbformat": 4,
 "nbformat_minor": 4
}
